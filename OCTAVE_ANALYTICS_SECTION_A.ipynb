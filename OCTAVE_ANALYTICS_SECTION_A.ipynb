{
 "cells": [
  {
   "cell_type": "code",
   "execution_count": 2,
   "metadata": {},
   "outputs": [],
   "source": [
    "import pandas as pd\n",
    "import numpy as np"
   ]
  },
  {
   "cell_type": "code",
   "execution_count": 37,
   "metadata": {},
   "outputs": [
    {
     "name": "stdout",
     "output_type": "stream",
     "text": [
      "The number of rows and columns  in the dataframe are 3634338 and 109\n"
     ]
    },
    {
     "data": {
      "text/html": [
       "<div>\n",
       "<style scoped>\n",
       "    .dataframe tbody tr th:only-of-type {\n",
       "        vertical-align: middle;\n",
       "    }\n",
       "\n",
       "    .dataframe tbody tr th {\n",
       "        vertical-align: top;\n",
       "    }\n",
       "\n",
       "    .dataframe thead th {\n",
       "        text-align: right;\n",
       "    }\n",
       "</style>\n",
       "<table border=\"1\" class=\"dataframe\">\n",
       "  <thead>\n",
       "    <tr style=\"text-align: right;\">\n",
       "      <th></th>\n",
       "      <th>Unnamed: 0</th>\n",
       "      <th>YEAR</th>\n",
       "      <th>QUARTER</th>\n",
       "      <th>MONTH</th>\n",
       "      <th>DAY_OF_MONTH</th>\n",
       "      <th>DAY_OF_WEEK</th>\n",
       "      <th>FL_DATE</th>\n",
       "      <th>OP_UNIQUE_CARRIER</th>\n",
       "      <th>OP_CARRIER_AIRLINE_ID</th>\n",
       "      <th>OP_CARRIER</th>\n",
       "      <th>...</th>\n",
       "      <th>DIV4_WHEELS_OFF</th>\n",
       "      <th>DIV4_TAIL_NUM</th>\n",
       "      <th>DIV5_AIRPORT</th>\n",
       "      <th>DIV5_AIRPORT_ID</th>\n",
       "      <th>DIV5_AIRPORT_SEQ_ID</th>\n",
       "      <th>DIV5_WHEELS_ON</th>\n",
       "      <th>DIV5_TOTAL_GTIME</th>\n",
       "      <th>DIV5_LONGEST_GTIME</th>\n",
       "      <th>DIV5_WHEELS_OFF</th>\n",
       "      <th>DIV5_TAIL_NUM</th>\n",
       "    </tr>\n",
       "  </thead>\n",
       "  <tbody>\n",
       "    <tr>\n",
       "      <th>0</th>\n",
       "      <td>0</td>\n",
       "      <td>2019</td>\n",
       "      <td>1</td>\n",
       "      <td>1</td>\n",
       "      <td>3</td>\n",
       "      <td>4</td>\n",
       "      <td>03/01/2019</td>\n",
       "      <td>9E</td>\n",
       "      <td>20363</td>\n",
       "      <td>9E</td>\n",
       "      <td>...</td>\n",
       "      <td>0.0</td>\n",
       "      <td>0.0</td>\n",
       "      <td>0.0</td>\n",
       "      <td>0.0</td>\n",
       "      <td>0.0</td>\n",
       "      <td>0.0</td>\n",
       "      <td>0.0</td>\n",
       "      <td>0.0</td>\n",
       "      <td>0.0</td>\n",
       "      <td>0.0</td>\n",
       "    </tr>\n",
       "    <tr>\n",
       "      <th>1</th>\n",
       "      <td>1</td>\n",
       "      <td>2019</td>\n",
       "      <td>1</td>\n",
       "      <td>1</td>\n",
       "      <td>4</td>\n",
       "      <td>5</td>\n",
       "      <td>04/01/2019</td>\n",
       "      <td>9E</td>\n",
       "      <td>20363</td>\n",
       "      <td>9E</td>\n",
       "      <td>...</td>\n",
       "      <td>0.0</td>\n",
       "      <td>0.0</td>\n",
       "      <td>0.0</td>\n",
       "      <td>0.0</td>\n",
       "      <td>0.0</td>\n",
       "      <td>0.0</td>\n",
       "      <td>0.0</td>\n",
       "      <td>0.0</td>\n",
       "      <td>0.0</td>\n",
       "      <td>0.0</td>\n",
       "    </tr>\n",
       "    <tr>\n",
       "      <th>2</th>\n",
       "      <td>2</td>\n",
       "      <td>2019</td>\n",
       "      <td>1</td>\n",
       "      <td>1</td>\n",
       "      <td>5</td>\n",
       "      <td>6</td>\n",
       "      <td>05/01/2019</td>\n",
       "      <td>9E</td>\n",
       "      <td>20363</td>\n",
       "      <td>9E</td>\n",
       "      <td>...</td>\n",
       "      <td>0.0</td>\n",
       "      <td>0.0</td>\n",
       "      <td>0.0</td>\n",
       "      <td>0.0</td>\n",
       "      <td>0.0</td>\n",
       "      <td>0.0</td>\n",
       "      <td>0.0</td>\n",
       "      <td>0.0</td>\n",
       "      <td>0.0</td>\n",
       "      <td>0.0</td>\n",
       "    </tr>\n",
       "    <tr>\n",
       "      <th>3</th>\n",
       "      <td>3</td>\n",
       "      <td>2019</td>\n",
       "      <td>1</td>\n",
       "      <td>1</td>\n",
       "      <td>6</td>\n",
       "      <td>7</td>\n",
       "      <td>06/01/2019</td>\n",
       "      <td>9E</td>\n",
       "      <td>20363</td>\n",
       "      <td>9E</td>\n",
       "      <td>...</td>\n",
       "      <td>0.0</td>\n",
       "      <td>0.0</td>\n",
       "      <td>0.0</td>\n",
       "      <td>0.0</td>\n",
       "      <td>0.0</td>\n",
       "      <td>0.0</td>\n",
       "      <td>0.0</td>\n",
       "      <td>0.0</td>\n",
       "      <td>0.0</td>\n",
       "      <td>0.0</td>\n",
       "    </tr>\n",
       "    <tr>\n",
       "      <th>4</th>\n",
       "      <td>4</td>\n",
       "      <td>2019</td>\n",
       "      <td>1</td>\n",
       "      <td>1</td>\n",
       "      <td>7</td>\n",
       "      <td>1</td>\n",
       "      <td>07/01/2019</td>\n",
       "      <td>9E</td>\n",
       "      <td>20363</td>\n",
       "      <td>9E</td>\n",
       "      <td>...</td>\n",
       "      <td>0.0</td>\n",
       "      <td>0.0</td>\n",
       "      <td>0.0</td>\n",
       "      <td>0.0</td>\n",
       "      <td>0.0</td>\n",
       "      <td>0.0</td>\n",
       "      <td>0.0</td>\n",
       "      <td>0.0</td>\n",
       "      <td>0.0</td>\n",
       "      <td>0.0</td>\n",
       "    </tr>\n",
       "  </tbody>\n",
       "</table>\n",
       "<p>5 rows × 109 columns</p>\n",
       "</div>"
      ],
      "text/plain": [
       "   Unnamed: 0  YEAR  QUARTER  MONTH  DAY_OF_MONTH  DAY_OF_WEEK     FL_DATE  \\\n",
       "0           0  2019        1      1             3            4  03/01/2019   \n",
       "1           1  2019        1      1             4            5  04/01/2019   \n",
       "2           2  2019        1      1             5            6  05/01/2019   \n",
       "3           3  2019        1      1             6            7  06/01/2019   \n",
       "4           4  2019        1      1             7            1  07/01/2019   \n",
       "\n",
       "  OP_UNIQUE_CARRIER  OP_CARRIER_AIRLINE_ID OP_CARRIER  ... DIV4_WHEELS_OFF  \\\n",
       "0                9E                  20363         9E  ...             0.0   \n",
       "1                9E                  20363         9E  ...             0.0   \n",
       "2                9E                  20363         9E  ...             0.0   \n",
       "3                9E                  20363         9E  ...             0.0   \n",
       "4                9E                  20363         9E  ...             0.0   \n",
       "\n",
       "   DIV4_TAIL_NUM  DIV5_AIRPORT  DIV5_AIRPORT_ID  DIV5_AIRPORT_SEQ_ID  \\\n",
       "0            0.0           0.0              0.0                  0.0   \n",
       "1            0.0           0.0              0.0                  0.0   \n",
       "2            0.0           0.0              0.0                  0.0   \n",
       "3            0.0           0.0              0.0                  0.0   \n",
       "4            0.0           0.0              0.0                  0.0   \n",
       "\n",
       "  DIV5_WHEELS_ON DIV5_TOTAL_GTIME DIV5_LONGEST_GTIME  DIV5_WHEELS_OFF  \\\n",
       "0            0.0              0.0                0.0              0.0   \n",
       "1            0.0              0.0                0.0              0.0   \n",
       "2            0.0              0.0                0.0              0.0   \n",
       "3            0.0              0.0                0.0              0.0   \n",
       "4            0.0              0.0                0.0              0.0   \n",
       "\n",
       "  DIV5_TAIL_NUM  \n",
       "0           0.0  \n",
       "1           0.0  \n",
       "2           0.0  \n",
       "3           0.0  \n",
       "4           0.0  \n",
       "\n",
       "[5 rows x 109 columns]"
      ]
     },
     "execution_count": 37,
     "metadata": {},
     "output_type": "execute_result"
    }
   ],
   "source": [
    "Kindly note that the Data from january to june has all merged in the file named \"travels_data.csv\" and saved on the system\n",
    "\n",
    "df = pd.read_csv(r'C:\\Users\\USER\\Desktop\\OCTAVE\\travels_data.csv')\n",
    "\n",
    "print('The number of rows and columns  in the dataframe are {} and {}'.format(df.shape[0], df.shape[1]))\n",
    "df.head()"
   ]
  },
  {
   "cell_type": "code",
   "execution_count": 4,
   "metadata": {},
   "outputs": [
    {
     "data": {
      "text/plain": [
       "Unnamed: 0            0\n",
       "YEAR                  0\n",
       "QUARTER               0\n",
       "MONTH                 0\n",
       "DAY_OF_MONTH          0\n",
       "                     ..\n",
       "DIV5_WHEELS_ON        0\n",
       "DIV5_TOTAL_GTIME      0\n",
       "DIV5_LONGEST_GTIME    0\n",
       "DIV5_WHEELS_OFF       0\n",
       "DIV5_TAIL_NUM         0\n",
       "Length: 109, dtype: int64"
      ]
     },
     "execution_count": 4,
     "metadata": {},
     "output_type": "execute_result"
    }
   ],
   "source": [
    "# filling the missing values with zero\n",
    "\n",
    "df = df.fillna(0)\n",
    "df.isna().sum()"
   ]
  },
  {
   "cell_type": "code",
   "execution_count": 40,
   "metadata": {},
   "outputs": [
    {
     "name": "stdout",
     "output_type": "stream",
     "text": [
      "The number of obervations for flights that are not cancelled is 3549066\n",
      "In subsequent Aanalysis the flights that are not cancelled will be denoted by \"successful_flights\" or \"uncancelled_flight\"\n"
     ]
    }
   ],
   "source": [
    "print('The number of obervations for flights that are not cancelled is {}'.format(uncancelled_flight.shape[0]))\n",
    "\n",
    "print('In subsequent Aanalysis the flights that are not cancelled will be denoted by \"successful_flights\" or \"uncancelled_flight\"')\n"
   ]
  },
  {
   "cell_type": "markdown",
   "metadata": {},
   "source": [
    "### 1. What airline had the most number of flights in the first quarter of 2019 ?"
   ]
  },
  {
   "cell_type": "code",
   "execution_count": 41,
   "metadata": {},
   "outputs": [],
   "source": [
    "uncancelled_flight =df.loc[df['CANCELLED']==0]\n",
    "\n",
    "first_quater = uncancelled_flight.loc[uncancelled_flight['QUARTER']==1]\n"
   ]
  },
  {
   "cell_type": "code",
   "execution_count": 6,
   "metadata": {},
   "outputs": [
    {
     "data": {
      "text/html": [
       "<div>\n",
       "<style scoped>\n",
       "    .dataframe tbody tr th:only-of-type {\n",
       "        vertical-align: middle;\n",
       "    }\n",
       "\n",
       "    .dataframe tbody tr th {\n",
       "        vertical-align: top;\n",
       "    }\n",
       "\n",
       "    .dataframe thead th {\n",
       "        text-align: right;\n",
       "    }\n",
       "</style>\n",
       "<table border=\"1\" class=\"dataframe\">\n",
       "  <thead>\n",
       "    <tr style=\"text-align: right;\">\n",
       "      <th></th>\n",
       "      <th>FLIGHTS</th>\n",
       "    </tr>\n",
       "    <tr>\n",
       "      <th>OP_UNIQUE_CARRIER</th>\n",
       "      <th></th>\n",
       "    </tr>\n",
       "  </thead>\n",
       "  <tbody>\n",
       "    <tr>\n",
       "      <th>WN</th>\n",
       "      <td>316404</td>\n",
       "    </tr>\n",
       "  </tbody>\n",
       "</table>\n",
       "</div>"
      ],
      "text/plain": [
       "                   FLIGHTS\n",
       "OP_UNIQUE_CARRIER         \n",
       "WN                  316404"
      ]
     },
     "execution_count": 6,
     "metadata": {},
     "output_type": "execute_result"
    }
   ],
   "source": [
    "first_quater = first_quater[['OP_UNIQUE_CARRIER','FLIGHTS']]\n",
    "\n",
    "first_quater = first_quater.groupby('OP_UNIQUE_CARRIER').sum()\n",
    "\n",
    "airline_with_most_number_of_flights = first_quater.loc[first_quater['FLIGHTS']==first_quater['FLIGHTS'].max()]\n",
    "\n",
    "airline_with_most_number_of_flights"
   ]
  },
  {
   "cell_type": "markdown",
   "metadata": {},
   "source": [
    "### 2. What is the total number of Airline Travels in the first half of 2019 ? "
   ]
  },
  {
   "cell_type": "code",
   "execution_count": 7,
   "metadata": {},
   "outputs": [
    {
     "name": "stdout",
     "output_type": "stream",
     "text": [
      "The total number of Airline Travels in the first half of 2019 is 3549066\n"
     ]
    }
   ],
   "source": [
    "\n",
    "uncancelled_flight =df.loc[df['CANCELLED']==0]\n",
    "\n",
    "number_of_Airline_Travels = uncancelled_flight['FLIGHTS'].sum()\n",
    "\n",
    "print('The total number of Airline Travels in the first half of 2019 is {}'.format(number_of_Airline_Travels))"
   ]
  },
  {
   "cell_type": "markdown",
   "metadata": {},
   "source": [
    "### 3. What is the Total AirTime by all Airlines in May 2019 ?"
   ]
  },
  {
   "cell_type": "code",
   "execution_count": 8,
   "metadata": {},
   "outputs": [
    {
     "name": "stdout",
     "output_type": "stream",
     "text": [
      "What is the Total AirTime by all Airlines in May 2019 is 69297104.0\n"
     ]
    }
   ],
   "source": [
    "may = df.loc[df['MONTH']==5]\n",
    "\n",
    "Total_AirTime =may['AIR_TIME'].sum()\n",
    "\n",
    "print('What is the Total AirTime by all Airlines in May 2019 is {}'.format(Total_AirTime))"
   ]
  },
  {
   "cell_type": "markdown",
   "metadata": {},
   "source": [
    "### 4. which is the most busiest city in April 2019"
   ]
  },
  {
   "cell_type": "code",
   "execution_count": 10,
   "metadata": {},
   "outputs": [
    {
     "data": {
      "text/html": [
       "<div>\n",
       "<style scoped>\n",
       "    .dataframe tbody tr th:only-of-type {\n",
       "        vertical-align: middle;\n",
       "    }\n",
       "\n",
       "    .dataframe tbody tr th {\n",
       "        vertical-align: top;\n",
       "    }\n",
       "\n",
       "    .dataframe thead th {\n",
       "        text-align: right;\n",
       "    }\n",
       "</style>\n",
       "<table border=\"1\" class=\"dataframe\">\n",
       "  <thead>\n",
       "    <tr style=\"text-align: right;\">\n",
       "      <th></th>\n",
       "      <th>FLIGHTS</th>\n",
       "    </tr>\n",
       "    <tr>\n",
       "      <th>DEST_CITY_NAME</th>\n",
       "      <th></th>\n",
       "    </tr>\n",
       "  </thead>\n",
       "  <tbody>\n",
       "    <tr>\n",
       "      <th>Chicago, IL</th>\n",
       "      <td>32978</td>\n",
       "    </tr>\n",
       "  </tbody>\n",
       "</table>\n",
       "</div>"
      ],
      "text/plain": [
       "                FLIGHTS\n",
       "DEST_CITY_NAME         \n",
       "Chicago, IL       32978"
      ]
     },
     "execution_count": 10,
     "metadata": {},
     "output_type": "execute_result"
    }
   ],
   "source": [
    "#first we check by the city with the largest number of flights entry\n",
    "\n",
    "successful_flights = df.loc[df['CANCELLED']==0]\n",
    "\n",
    "april = successful_flights.loc[successful_flights['MONTH']==4]\n",
    "\n",
    "april = april[['DEST_CITY_NAME','FLIGHTS']]\n",
    "\n",
    "april = april.groupby('DEST_CITY_NAME').sum()\n",
    "\n",
    "max_city_travelled = april.loc[april['FLIGHTS'] == april['FLIGHTS'].max()]\n",
    "\n",
    "max_city_travelled"
   ]
  },
  {
   "cell_type": "code",
   "execution_count": 11,
   "metadata": {},
   "outputs": [
    {
     "data": {
      "text/html": [
       "<div>\n",
       "<style scoped>\n",
       "    .dataframe tbody tr th:only-of-type {\n",
       "        vertical-align: middle;\n",
       "    }\n",
       "\n",
       "    .dataframe tbody tr th {\n",
       "        vertical-align: top;\n",
       "    }\n",
       "\n",
       "    .dataframe thead th {\n",
       "        text-align: right;\n",
       "    }\n",
       "</style>\n",
       "<table border=\"1\" class=\"dataframe\">\n",
       "  <thead>\n",
       "    <tr style=\"text-align: right;\">\n",
       "      <th></th>\n",
       "      <th>FLIGHTS</th>\n",
       "    </tr>\n",
       "    <tr>\n",
       "      <th>ORIGIN_CITY_NAME</th>\n",
       "      <th></th>\n",
       "    </tr>\n",
       "  </thead>\n",
       "  <tbody>\n",
       "    <tr>\n",
       "      <th>Chicago, IL</th>\n",
       "      <td>32979</td>\n",
       "    </tr>\n",
       "  </tbody>\n",
       "</table>\n",
       "</div>"
      ],
      "text/plain": [
       "                  FLIGHTS\n",
       "ORIGIN_CITY_NAME         \n",
       "Chicago, IL         32979"
      ]
     },
     "execution_count": 11,
     "metadata": {},
     "output_type": "execute_result"
    }
   ],
   "source": [
    "#secondly we check by the city with the largest number of flights departure\n",
    "\n",
    "april2 = successful_flights.loc[successful_flights['MONTH']==4]\n",
    "\n",
    "april2 = april2[['ORIGIN_CITY_NAME','FLIGHTS']]\n",
    "\n",
    "april2 = april2.groupby('ORIGIN_CITY_NAME').sum()\n",
    "\n",
    "max_city_departed = april2.loc[april2['FLIGHTS'] == april2['FLIGHTS'].max()]\n",
    "\n",
    "max_city_departed\n"
   ]
  },
  {
   "cell_type": "markdown",
   "metadata": {},
   "source": [
    "#### Since chicago has the highest number of flight arrivals from other cities and the highest number of Flight departure,\n",
    "\n",
    "#### we can say that is the most busiest city"
   ]
  },
  {
   "cell_type": "markdown",
   "metadata": {},
   "source": [
    "### 6.What airline covered the most distance in June 2019 ?"
   ]
  },
  {
   "cell_type": "code",
   "execution_count": 13,
   "metadata": {},
   "outputs": [],
   "source": [
    "\n",
    "june_record = successful_flights.loc[successful_flights['MONTH']==6]\n",
    "\n",
    "distance_cal = june_record.groupby('OP_UNIQUE_CARRIER').sum()"
   ]
  },
  {
   "cell_type": "code",
   "execution_count": 14,
   "metadata": {},
   "outputs": [
    {
     "data": {
      "text/html": [
       "<div>\n",
       "<style scoped>\n",
       "    .dataframe tbody tr th:only-of-type {\n",
       "        vertical-align: middle;\n",
       "    }\n",
       "\n",
       "    .dataframe tbody tr th {\n",
       "        vertical-align: top;\n",
       "    }\n",
       "\n",
       "    .dataframe thead th {\n",
       "        text-align: right;\n",
       "    }\n",
       "</style>\n",
       "<table border=\"1\" class=\"dataframe\">\n",
       "  <thead>\n",
       "    <tr style=\"text-align: right;\">\n",
       "      <th></th>\n",
       "      <th>DISTANCE</th>\n",
       "      <th>DIV_DISTANCE</th>\n",
       "      <th>TOTAL_DISTANCE</th>\n",
       "    </tr>\n",
       "    <tr>\n",
       "      <th>OP_UNIQUE_CARRIER</th>\n",
       "      <th></th>\n",
       "      <th></th>\n",
       "      <th></th>\n",
       "    </tr>\n",
       "  </thead>\n",
       "  <tbody>\n",
       "    <tr>\n",
       "      <th>9E</th>\n",
       "      <td>9748411</td>\n",
       "      <td>452.0</td>\n",
       "      <td>9748863.0</td>\n",
       "    </tr>\n",
       "    <tr>\n",
       "      <th>AA</th>\n",
       "      <td>77478118</td>\n",
       "      <td>9261.0</td>\n",
       "      <td>77487379.0</td>\n",
       "    </tr>\n",
       "    <tr>\n",
       "      <th>AS</th>\n",
       "      <td>30631435</td>\n",
       "      <td>4474.0</td>\n",
       "      <td>30635909.0</td>\n",
       "    </tr>\n",
       "    <tr>\n",
       "      <th>B6</th>\n",
       "      <td>26877337</td>\n",
       "      <td>844.0</td>\n",
       "      <td>26878181.0</td>\n",
       "    </tr>\n",
       "    <tr>\n",
       "      <th>DL</th>\n",
       "      <td>79526511</td>\n",
       "      <td>513.0</td>\n",
       "      <td>79527024.0</td>\n",
       "    </tr>\n",
       "  </tbody>\n",
       "</table>\n",
       "</div>"
      ],
      "text/plain": [
       "                   DISTANCE  DIV_DISTANCE  TOTAL_DISTANCE\n",
       "OP_UNIQUE_CARRIER                                        \n",
       "9E                  9748411         452.0       9748863.0\n",
       "AA                 77478118        9261.0      77487379.0\n",
       "AS                 30631435        4474.0      30635909.0\n",
       "B6                 26877337         844.0      26878181.0\n",
       "DL                 79526511         513.0      79527024.0"
      ]
     },
     "execution_count": 14,
     "metadata": {},
     "output_type": "execute_result"
    }
   ],
   "source": [
    "# we observe the airport distance and the diverted airport distance in cases of diverts\n",
    "\n",
    "distance_cal = distance_cal[['DISTANCE','DIV_DISTANCE']]\n",
    "\n",
    "# we add the two distances together since entry with no divert and diverts \n",
    "# that arrived scheduled airport before its divert are null\n",
    "\n",
    "distance_cal['TOTAL_DISTANCE'] = distance_cal['DISTANCE'] + distance_cal['DIV_DISTANCE']\n",
    "\n",
    "distance_cal.head()"
   ]
  },
  {
   "cell_type": "code",
   "execution_count": 15,
   "metadata": {},
   "outputs": [
    {
     "data": {
      "text/html": [
       "<div>\n",
       "<style scoped>\n",
       "    .dataframe tbody tr th:only-of-type {\n",
       "        vertical-align: middle;\n",
       "    }\n",
       "\n",
       "    .dataframe tbody tr th {\n",
       "        vertical-align: top;\n",
       "    }\n",
       "\n",
       "    .dataframe thead th {\n",
       "        text-align: right;\n",
       "    }\n",
       "</style>\n",
       "<table border=\"1\" class=\"dataframe\">\n",
       "  <thead>\n",
       "    <tr style=\"text-align: right;\">\n",
       "      <th></th>\n",
       "      <th>DISTANCE</th>\n",
       "      <th>DIV_DISTANCE</th>\n",
       "      <th>TOTAL_DISTANCE</th>\n",
       "    </tr>\n",
       "    <tr>\n",
       "      <th>OP_UNIQUE_CARRIER</th>\n",
       "      <th></th>\n",
       "      <th></th>\n",
       "      <th></th>\n",
       "    </tr>\n",
       "  </thead>\n",
       "  <tbody>\n",
       "    <tr>\n",
       "      <th>WN</th>\n",
       "      <td>83654773</td>\n",
       "      <td>24618.0</td>\n",
       "      <td>83679391.0</td>\n",
       "    </tr>\n",
       "  </tbody>\n",
       "</table>\n",
       "</div>"
      ],
      "text/plain": [
       "                   DISTANCE  DIV_DISTANCE  TOTAL_DISTANCE\n",
       "OP_UNIQUE_CARRIER                                        \n",
       "WN                 83654773       24618.0      83679391.0"
      ]
     },
     "execution_count": 15,
     "metadata": {},
     "output_type": "execute_result"
    }
   ],
   "source": [
    "airline_the_most_distance = distance_cal.loc[distance_cal['TOTAL_DISTANCE']==distance_cal['TOTAL_DISTANCE'].max()]\n",
    "airline_the_most_distance"
   ]
  },
  {
   "cell_type": "markdown",
   "metadata": {},
   "source": [
    "### 7.What is the Tail Number of the aircraft that covered the most distance in Q2 of 2019 ?"
   ]
  },
  {
   "cell_type": "code",
   "execution_count": 16,
   "metadata": {},
   "outputs": [
    {
     "data": {
      "text/html": [
       "<div>\n",
       "<style scoped>\n",
       "    .dataframe tbody tr th:only-of-type {\n",
       "        vertical-align: middle;\n",
       "    }\n",
       "\n",
       "    .dataframe tbody tr th {\n",
       "        vertical-align: top;\n",
       "    }\n",
       "\n",
       "    .dataframe thead th {\n",
       "        text-align: right;\n",
       "    }\n",
       "</style>\n",
       "<table border=\"1\" class=\"dataframe\">\n",
       "  <thead>\n",
       "    <tr style=\"text-align: right;\">\n",
       "      <th></th>\n",
       "      <th>DISTANCE</th>\n",
       "      <th>DIV_DISTANCE</th>\n",
       "    </tr>\n",
       "    <tr>\n",
       "      <th>TAIL_NUM</th>\n",
       "      <th></th>\n",
       "      <th></th>\n",
       "    </tr>\n",
       "  </thead>\n",
       "  <tbody>\n",
       "    <tr>\n",
       "      <th>215NV</th>\n",
       "      <td>283301</td>\n",
       "      <td>0.0</td>\n",
       "    </tr>\n",
       "    <tr>\n",
       "      <th>216NV</th>\n",
       "      <td>300892</td>\n",
       "      <td>0.0</td>\n",
       "    </tr>\n",
       "    <tr>\n",
       "      <th>217NV</th>\n",
       "      <td>262953</td>\n",
       "      <td>0.0</td>\n",
       "    </tr>\n",
       "    <tr>\n",
       "      <th>218NV</th>\n",
       "      <td>302323</td>\n",
       "      <td>0.0</td>\n",
       "    </tr>\n",
       "    <tr>\n",
       "      <th>219NV</th>\n",
       "      <td>272308</td>\n",
       "      <td>0.0</td>\n",
       "    </tr>\n",
       "  </tbody>\n",
       "</table>\n",
       "</div>"
      ],
      "text/plain": [
       "          DISTANCE  DIV_DISTANCE\n",
       "TAIL_NUM                        \n",
       "215NV       283301           0.0\n",
       "216NV       300892           0.0\n",
       "217NV       262953           0.0\n",
       "218NV       302323           0.0\n",
       "219NV       272308           0.0"
      ]
     },
     "execution_count": 16,
     "metadata": {},
     "output_type": "execute_result"
    }
   ],
   "source": [
    "# slice out the records for the second quarter\n",
    "second_qtr= successful_flights.loc[successful_flights['QUARTER']==2]\n",
    "\n",
    "\n",
    "# feature the distances and tail_number before grouping\n",
    "\n",
    "distance = second_qtr[['TAIL_NUM','DISTANCE','DIV_DISTANCE']]\n",
    "\n",
    "distance = distance.groupby('TAIL_NUM').sum() \n",
    "\n",
    "distance.head()"
   ]
  },
  {
   "cell_type": "code",
   "execution_count": 17,
   "metadata": {},
   "outputs": [
    {
     "data": {
      "text/html": [
       "<div>\n",
       "<style scoped>\n",
       "    .dataframe tbody tr th:only-of-type {\n",
       "        vertical-align: middle;\n",
       "    }\n",
       "\n",
       "    .dataframe tbody tr th {\n",
       "        vertical-align: top;\n",
       "    }\n",
       "\n",
       "    .dataframe thead th {\n",
       "        text-align: right;\n",
       "    }\n",
       "</style>\n",
       "<table border=\"1\" class=\"dataframe\">\n",
       "  <thead>\n",
       "    <tr style=\"text-align: right;\">\n",
       "      <th></th>\n",
       "      <th>DISTANCE</th>\n",
       "      <th>DIV_DISTANCE</th>\n",
       "      <th>TOTAL_DISTANCE</th>\n",
       "    </tr>\n",
       "    <tr>\n",
       "      <th>TAIL_NUM</th>\n",
       "      <th></th>\n",
       "      <th></th>\n",
       "      <th></th>\n",
       "    </tr>\n",
       "  </thead>\n",
       "  <tbody>\n",
       "    <tr>\n",
       "      <th>215NV</th>\n",
       "      <td>283301</td>\n",
       "      <td>0.0</td>\n",
       "      <td>283301.0</td>\n",
       "    </tr>\n",
       "    <tr>\n",
       "      <th>216NV</th>\n",
       "      <td>300892</td>\n",
       "      <td>0.0</td>\n",
       "      <td>300892.0</td>\n",
       "    </tr>\n",
       "    <tr>\n",
       "      <th>217NV</th>\n",
       "      <td>262953</td>\n",
       "      <td>0.0</td>\n",
       "      <td>262953.0</td>\n",
       "    </tr>\n",
       "    <tr>\n",
       "      <th>218NV</th>\n",
       "      <td>302323</td>\n",
       "      <td>0.0</td>\n",
       "      <td>302323.0</td>\n",
       "    </tr>\n",
       "    <tr>\n",
       "      <th>219NV</th>\n",
       "      <td>272308</td>\n",
       "      <td>0.0</td>\n",
       "      <td>272308.0</td>\n",
       "    </tr>\n",
       "  </tbody>\n",
       "</table>\n",
       "</div>"
      ],
      "text/plain": [
       "          DISTANCE  DIV_DISTANCE  TOTAL_DISTANCE\n",
       "TAIL_NUM                                        \n",
       "215NV       283301           0.0        283301.0\n",
       "216NV       300892           0.0        300892.0\n",
       "217NV       262953           0.0        262953.0\n",
       "218NV       302323           0.0        302323.0\n",
       "219NV       272308           0.0        272308.0"
      ]
     },
     "execution_count": 17,
     "metadata": {},
     "output_type": "execute_result"
    }
   ],
   "source": [
    "#  sum the distances\n",
    "\n",
    "distance['TOTAL_DISTANCE']=distance['DISTANCE'] + distance['DIV_DISTANCE']\n",
    "distance.head()"
   ]
  },
  {
   "cell_type": "code",
   "execution_count": 18,
   "metadata": {},
   "outputs": [
    {
     "data": {
      "text/html": [
       "<div>\n",
       "<style scoped>\n",
       "    .dataframe tbody tr th:only-of-type {\n",
       "        vertical-align: middle;\n",
       "    }\n",
       "\n",
       "    .dataframe tbody tr th {\n",
       "        vertical-align: top;\n",
       "    }\n",
       "\n",
       "    .dataframe thead th {\n",
       "        text-align: right;\n",
       "    }\n",
       "</style>\n",
       "<table border=\"1\" class=\"dataframe\">\n",
       "  <thead>\n",
       "    <tr style=\"text-align: right;\">\n",
       "      <th></th>\n",
       "      <th>DISTANCE</th>\n",
       "      <th>DIV_DISTANCE</th>\n",
       "      <th>TOTAL_DISTANCE</th>\n",
       "    </tr>\n",
       "    <tr>\n",
       "      <th>TAIL_NUM</th>\n",
       "      <th></th>\n",
       "      <th></th>\n",
       "      <th></th>\n",
       "    </tr>\n",
       "  </thead>\n",
       "  <tbody>\n",
       "    <tr>\n",
       "      <th>N934JB</th>\n",
       "      <td>598286</td>\n",
       "      <td>0.0</td>\n",
       "      <td>598286.0</td>\n",
       "    </tr>\n",
       "  </tbody>\n",
       "</table>\n",
       "</div>"
      ],
      "text/plain": [
       "          DISTANCE  DIV_DISTANCE  TOTAL_DISTANCE\n",
       "TAIL_NUM                                        \n",
       "N934JB      598286           0.0        598286.0"
      ]
     },
     "execution_count": 18,
     "metadata": {},
     "output_type": "execute_result"
    }
   ],
   "source": [
    "Tail_num_max_distance_travelled = distance.loc[distance['TOTAL_DISTANCE']==distance['TOTAL_DISTANCE'].max()]\n",
    "Tail_num_max_distance_travelled"
   ]
  },
  {
   "cell_type": "markdown",
   "metadata": {},
   "source": [
    "### 8. Which state recorded the most delays in the 2nd Quarter of 2019 "
   ]
  },
  {
   "cell_type": "code",
   "execution_count": 26,
   "metadata": {},
   "outputs": [
    {
     "data": {
      "text/html": [
       "<div>\n",
       "<style scoped>\n",
       "    .dataframe tbody tr th:only-of-type {\n",
       "        vertical-align: middle;\n",
       "    }\n",
       "\n",
       "    .dataframe tbody tr th {\n",
       "        vertical-align: top;\n",
       "    }\n",
       "\n",
       "    .dataframe thead th {\n",
       "        text-align: right;\n",
       "    }\n",
       "</style>\n",
       "<table border=\"1\" class=\"dataframe\">\n",
       "  <thead>\n",
       "    <tr style=\"text-align: right;\">\n",
       "      <th></th>\n",
       "      <th>ORIGIN_STATE_NM</th>\n",
       "      <th>DEST_STATE_NM</th>\n",
       "      <th>DEP_DELAY_NEW</th>\n",
       "      <th>ARR_DELAY_NEW</th>\n",
       "      <th>DIV_ARR_DELAY</th>\n",
       "    </tr>\n",
       "  </thead>\n",
       "  <tbody>\n",
       "    <tr>\n",
       "      <th>1749234</th>\n",
       "      <td>New York</td>\n",
       "      <td>Florida</td>\n",
       "      <td>11.0</td>\n",
       "      <td>4.0</td>\n",
       "      <td>0.0</td>\n",
       "    </tr>\n",
       "    <tr>\n",
       "      <th>1749235</th>\n",
       "      <td>New York</td>\n",
       "      <td>Florida</td>\n",
       "      <td>0.0</td>\n",
       "      <td>0.0</td>\n",
       "      <td>0.0</td>\n",
       "    </tr>\n",
       "    <tr>\n",
       "      <th>1749236</th>\n",
       "      <td>New York</td>\n",
       "      <td>Florida</td>\n",
       "      <td>0.0</td>\n",
       "      <td>0.0</td>\n",
       "      <td>0.0</td>\n",
       "    </tr>\n",
       "    <tr>\n",
       "      <th>1749237</th>\n",
       "      <td>New York</td>\n",
       "      <td>Florida</td>\n",
       "      <td>10.0</td>\n",
       "      <td>47.0</td>\n",
       "      <td>0.0</td>\n",
       "    </tr>\n",
       "    <tr>\n",
       "      <th>1749238</th>\n",
       "      <td>New York</td>\n",
       "      <td>Florida</td>\n",
       "      <td>66.0</td>\n",
       "      <td>85.0</td>\n",
       "      <td>0.0</td>\n",
       "    </tr>\n",
       "  </tbody>\n",
       "</table>\n",
       "</div>"
      ],
      "text/plain": [
       "        ORIGIN_STATE_NM DEST_STATE_NM  DEP_DELAY_NEW  ARR_DELAY_NEW  \\\n",
       "1749234        New York       Florida           11.0            4.0   \n",
       "1749235        New York       Florida            0.0            0.0   \n",
       "1749236        New York       Florida            0.0            0.0   \n",
       "1749237        New York       Florida           10.0           47.0   \n",
       "1749238        New York       Florida           66.0           85.0   \n",
       "\n",
       "         DIV_ARR_DELAY  \n",
       "1749234            0.0  \n",
       "1749235            0.0  \n",
       "1749236            0.0  \n",
       "1749237            0.0  \n",
       "1749238            0.0  "
      ]
     },
     "execution_count": 26,
     "metadata": {},
     "output_type": "execute_result"
    }
   ],
   "source": [
    "\n",
    "second_quarter= successful_flights.loc[successful_flights['QUARTER']==2]\n",
    "\n",
    "# slice the dataframe\n",
    "\n",
    "delayed_records = second_qtr[['ORIGIN_STATE_NM','DEST_STATE_NM','DEP_DELAY_NEW','ARR_DELAY_NEW','DIV_ARR_DELAY']]\n",
    "delayed_records.head()"
   ]
  },
  {
   "cell_type": "markdown",
   "metadata": {},
   "source": [
    "#### Checking for DESTINATION STATES"
   ]
  },
  {
   "cell_type": "code",
   "execution_count": 23,
   "metadata": {},
   "outputs": [
    {
     "data": {
      "text/html": [
       "<div>\n",
       "<style scoped>\n",
       "    .dataframe tbody tr th:only-of-type {\n",
       "        vertical-align: middle;\n",
       "    }\n",
       "\n",
       "    .dataframe tbody tr th {\n",
       "        vertical-align: top;\n",
       "    }\n",
       "\n",
       "    .dataframe thead th {\n",
       "        text-align: right;\n",
       "    }\n",
       "</style>\n",
       "<table border=\"1\" class=\"dataframe\">\n",
       "  <thead>\n",
       "    <tr style=\"text-align: right;\">\n",
       "      <th></th>\n",
       "      <th>DEP_DELAY_NEW</th>\n",
       "      <th>ARR_DELAY_NEW</th>\n",
       "      <th>DIV_ARR_DELAY</th>\n",
       "      <th>TOTAL_DELAYS</th>\n",
       "    </tr>\n",
       "    <tr>\n",
       "      <th>DEST_STATE_NM</th>\n",
       "      <th></th>\n",
       "      <th></th>\n",
       "      <th></th>\n",
       "      <th></th>\n",
       "    </tr>\n",
       "  </thead>\n",
       "  <tbody>\n",
       "    <tr>\n",
       "      <th>Alabama</th>\n",
       "      <td>156206.0</td>\n",
       "      <td>163706.0</td>\n",
       "      <td>4657.0</td>\n",
       "      <td>324569.0</td>\n",
       "    </tr>\n",
       "    <tr>\n",
       "      <th>Alaska</th>\n",
       "      <td>74616.0</td>\n",
       "      <td>75349.0</td>\n",
       "      <td>3500.0</td>\n",
       "      <td>153465.0</td>\n",
       "    </tr>\n",
       "    <tr>\n",
       "      <th>Arizona</th>\n",
       "      <td>703505.0</td>\n",
       "      <td>683904.0</td>\n",
       "      <td>12432.0</td>\n",
       "      <td>1399841.0</td>\n",
       "    </tr>\n",
       "    <tr>\n",
       "      <th>Arkansas</th>\n",
       "      <td>115943.0</td>\n",
       "      <td>128499.0</td>\n",
       "      <td>5804.0</td>\n",
       "      <td>250246.0</td>\n",
       "    </tr>\n",
       "    <tr>\n",
       "      <th>California</th>\n",
       "      <td>2769521.0</td>\n",
       "      <td>2691577.0</td>\n",
       "      <td>39618.0</td>\n",
       "      <td>5500716.0</td>\n",
       "    </tr>\n",
       "  </tbody>\n",
       "</table>\n",
       "</div>"
      ],
      "text/plain": [
       "               DEP_DELAY_NEW  ARR_DELAY_NEW  DIV_ARR_DELAY  TOTAL_DELAYS\n",
       "DEST_STATE_NM                                                           \n",
       "Alabama             156206.0       163706.0         4657.0      324569.0\n",
       "Alaska               74616.0        75349.0         3500.0      153465.0\n",
       "Arizona             703505.0       683904.0        12432.0     1399841.0\n",
       "Arkansas            115943.0       128499.0         5804.0      250246.0\n",
       "California         2769521.0      2691577.0        39618.0     5500716.0"
      ]
     },
     "execution_count": 23,
     "metadata": {},
     "output_type": "execute_result"
    }
   ],
   "source": [
    "delay_records = delay_records.groupby('DEST_STATE_NM').sum()\n",
    "delay_records.head()"
   ]
  },
  {
   "cell_type": "code",
   "execution_count": 21,
   "metadata": {},
   "outputs": [
    {
     "data": {
      "text/html": [
       "<div>\n",
       "<style scoped>\n",
       "    .dataframe tbody tr th:only-of-type {\n",
       "        vertical-align: middle;\n",
       "    }\n",
       "\n",
       "    .dataframe tbody tr th {\n",
       "        vertical-align: top;\n",
       "    }\n",
       "\n",
       "    .dataframe thead th {\n",
       "        text-align: right;\n",
       "    }\n",
       "</style>\n",
       "<table border=\"1\" class=\"dataframe\">\n",
       "  <thead>\n",
       "    <tr style=\"text-align: right;\">\n",
       "      <th></th>\n",
       "      <th>DEP_DELAY_NEW</th>\n",
       "      <th>ARR_DELAY_NEW</th>\n",
       "      <th>DIV_ARR_DELAY</th>\n",
       "      <th>TOTAL_DELAYS</th>\n",
       "    </tr>\n",
       "    <tr>\n",
       "      <th>DEST_STATE_NM</th>\n",
       "      <th></th>\n",
       "      <th></th>\n",
       "      <th></th>\n",
       "      <th></th>\n",
       "    </tr>\n",
       "  </thead>\n",
       "  <tbody>\n",
       "    <tr>\n",
       "      <th>Texas</th>\n",
       "      <td>3502519.0</td>\n",
       "      <td>3731380.0</td>\n",
       "      <td>355436.0</td>\n",
       "      <td>7589335.0</td>\n",
       "    </tr>\n",
       "  </tbody>\n",
       "</table>\n",
       "</div>"
      ],
      "text/plain": [
       "               DEP_DELAY_NEW  ARR_DELAY_NEW  DIV_ARR_DELAY  TOTAL_DELAYS\n",
       "DEST_STATE_NM                                                           \n",
       "Texas              3502519.0      3731380.0       355436.0     7589335.0"
      ]
     },
     "execution_count": 21,
     "metadata": {},
     "output_type": "execute_result"
    }
   ],
   "source": [
    "#sum the delays\n",
    "\n",
    "delay_records['TOTAL_DELAYS']= delay_records['DEP_DELAY_NEW'] + delay_records['ARR_DELAY_NEW'] + delay_records['DIV_ARR_DELAY']\n",
    "\n",
    "\n",
    "max_state_delays = delay_records.loc[delay_records['TOTAL_DELAYS']==delay_records['TOTAL_DELAYS'].max()]\n",
    "max_state_delays"
   ]
  },
  {
   "cell_type": "markdown",
   "metadata": {},
   "source": [
    "### Checking for origin states"
   ]
  },
  {
   "cell_type": "code",
   "execution_count": 27,
   "metadata": {},
   "outputs": [
    {
     "data": {
      "text/html": [
       "<div>\n",
       "<style scoped>\n",
       "    .dataframe tbody tr th:only-of-type {\n",
       "        vertical-align: middle;\n",
       "    }\n",
       "\n",
       "    .dataframe tbody tr th {\n",
       "        vertical-align: top;\n",
       "    }\n",
       "\n",
       "    .dataframe thead th {\n",
       "        text-align: right;\n",
       "    }\n",
       "</style>\n",
       "<table border=\"1\" class=\"dataframe\">\n",
       "  <thead>\n",
       "    <tr style=\"text-align: right;\">\n",
       "      <th></th>\n",
       "      <th>DEP_DELAY_NEW</th>\n",
       "      <th>ARR_DELAY_NEW</th>\n",
       "      <th>DIV_ARR_DELAY</th>\n",
       "      <th>TOTAL_DELAYS</th>\n",
       "    </tr>\n",
       "    <tr>\n",
       "      <th>ORIGIN_STATE_NM</th>\n",
       "      <th></th>\n",
       "      <th></th>\n",
       "      <th></th>\n",
       "      <th></th>\n",
       "    </tr>\n",
       "  </thead>\n",
       "  <tbody>\n",
       "    <tr>\n",
       "      <th>Texas</th>\n",
       "      <td>3770427.0</td>\n",
       "      <td>3833069.0</td>\n",
       "      <td>152677.0</td>\n",
       "      <td>7756173.0</td>\n",
       "    </tr>\n",
       "  </tbody>\n",
       "</table>\n",
       "</div>"
      ],
      "text/plain": [
       "                 DEP_DELAY_NEW  ARR_DELAY_NEW  DIV_ARR_DELAY  TOTAL_DELAYS\n",
       "ORIGIN_STATE_NM                                                           \n",
       "Texas                3770427.0      3833069.0       152677.0     7756173.0"
      ]
     },
     "execution_count": 27,
     "metadata": {},
     "output_type": "execute_result"
    }
   ],
   "source": [
    "delay_records2 = delayed_records.groupby('ORIGIN_STATE_NM').sum()\n",
    "\n",
    "\n",
    "delay_records2['TOTAL_DELAYS']= delay_records2['DEP_DELAY_NEW'] + delay_records2['ARR_DELAY_NEW'] + delay_records2['DIV_ARR_DELAY']\n",
    "\n",
    "\n",
    "max_state_delays2 = delay_records2.loc[delay_records2['TOTAL_DELAYS']==delay_records2['TOTAL_DELAYS'].max()]\n",
    "max_state_delays2\n"
   ]
  },
  {
   "cell_type": "markdown",
   "metadata": {},
   "source": [
    "### 9. What is the daily average Taxi-out time in New York in February 2019 ?"
   ]
  },
  {
   "cell_type": "code",
   "execution_count": 28,
   "metadata": {},
   "outputs": [
    {
     "data": {
      "text/plain": [
       "29152"
      ]
     },
     "execution_count": 28,
     "metadata": {},
     "output_type": "execute_result"
    }
   ],
   "source": [
    "february = df.loc[df['MONTH']==2]\n",
    "\n",
    "New_york = february.loc[february['ORIGIN_STATE_NM']==\"New York\"]\n",
    "\n",
    "New_york.shape[0]"
   ]
  },
  {
   "cell_type": "code",
   "execution_count": 29,
   "metadata": {},
   "outputs": [
    {
     "name": "stdout",
     "output_type": "stream",
     "text": [
      "The daily average Taxi-out time in New York in February 2019 is 23.627675631174533\n"
     ]
    }
   ],
   "source": [
    "total_daily_observations = New_york.shape[0]\n",
    "\n",
    "total_daily_records = New_york['TAXI_OUT'].sum()\n",
    "\n",
    "Daily_average = total_daily_records/total_daily_observations\n",
    "\n",
    "print('The daily average Taxi-out time in New York in February 2019 is {}'.format(Daily_average))"
   ]
  },
  {
   "cell_type": "markdown",
   "metadata": {},
   "source": [
    "### 10. How many airlines with New York destinations were diverted in Q1 2019 ?"
   ]
  },
  {
   "cell_type": "code",
   "execution_count": 30,
   "metadata": {},
   "outputs": [],
   "source": [
    "first_quarter= successful_flights.loc[successful_flights['QUARTER']==1]\n",
    "\n",
    "new_york_dest = first_quarter.loc[first_quarter['DEST_STATE_NM']==\"New York\"]\n",
    "\n",
    "#Slicing the dataframe to get records of diverts\n",
    "new_york_diverts = new_york_dest.loc[new_york_dest['DIV_AIRPORT_LANDINGS']>0]\n"
   ]
  },
  {
   "cell_type": "code",
   "execution_count": 31,
   "metadata": {},
   "outputs": [
    {
     "name": "stdout",
     "output_type": "stream",
     "text": [
      "The total count of airlines with New York destinations which were diverted in Q1 2019 is 17\n"
     ]
    }
   ],
   "source": [
    "airlines = new_york_diverts['OP_UNIQUE_CARRIER'].unique()\n",
    "\n",
    "total_airlines = len(airlines)\n",
    "\n",
    "print('The total count of airlines with New York destinations which were diverted in Q1 2019 is {}'.format(total_airlines))"
   ]
  },
  {
   "cell_type": "markdown",
   "metadata": {},
   "source": [
    "### 11. Which of these delays is more rampant in Washington in the first half of 2019"
   ]
  },
  {
   "cell_type": "code",
   "execution_count": null,
   "metadata": {},
   "outputs": [],
   "source": [
    "# to get this we will check the number of times each delay type occured "
   ]
  },
  {
   "cell_type": "code",
   "execution_count": 32,
   "metadata": {},
   "outputs": [
    {
     "data": {
      "text/html": [
       "<div>\n",
       "<style scoped>\n",
       "    .dataframe tbody tr th:only-of-type {\n",
       "        vertical-align: middle;\n",
       "    }\n",
       "\n",
       "    .dataframe tbody tr th {\n",
       "        vertical-align: top;\n",
       "    }\n",
       "\n",
       "    .dataframe thead th {\n",
       "        text-align: right;\n",
       "    }\n",
       "</style>\n",
       "<table border=\"1\" class=\"dataframe\">\n",
       "  <thead>\n",
       "    <tr style=\"text-align: right;\">\n",
       "      <th></th>\n",
       "      <th>ORIGIN_STATE_NM</th>\n",
       "      <th>CARRIER_DELAY</th>\n",
       "      <th>WEATHER_DELAY</th>\n",
       "      <th>NAS_DELAY</th>\n",
       "      <th>SECURITY_DELAY</th>\n",
       "      <th>LATE_AIRCRAFT_DELAY</th>\n",
       "    </tr>\n",
       "  </thead>\n",
       "  <tbody>\n",
       "    <tr>\n",
       "      <th>2327</th>\n",
       "      <td>Washington</td>\n",
       "      <td>0.0</td>\n",
       "      <td>0.0</td>\n",
       "      <td>0.0</td>\n",
       "      <td>0.0</td>\n",
       "      <td>0.0</td>\n",
       "    </tr>\n",
       "    <tr>\n",
       "      <th>2328</th>\n",
       "      <td>Washington</td>\n",
       "      <td>0.0</td>\n",
       "      <td>0.0</td>\n",
       "      <td>0.0</td>\n",
       "      <td>0.0</td>\n",
       "      <td>0.0</td>\n",
       "    </tr>\n",
       "    <tr>\n",
       "      <th>2329</th>\n",
       "      <td>Washington</td>\n",
       "      <td>0.0</td>\n",
       "      <td>0.0</td>\n",
       "      <td>0.0</td>\n",
       "      <td>0.0</td>\n",
       "      <td>0.0</td>\n",
       "    </tr>\n",
       "    <tr>\n",
       "      <th>2330</th>\n",
       "      <td>Washington</td>\n",
       "      <td>0.0</td>\n",
       "      <td>0.0</td>\n",
       "      <td>0.0</td>\n",
       "      <td>0.0</td>\n",
       "      <td>0.0</td>\n",
       "    </tr>\n",
       "    <tr>\n",
       "      <th>2331</th>\n",
       "      <td>Washington</td>\n",
       "      <td>0.0</td>\n",
       "      <td>0.0</td>\n",
       "      <td>0.0</td>\n",
       "      <td>0.0</td>\n",
       "      <td>0.0</td>\n",
       "    </tr>\n",
       "  </tbody>\n",
       "</table>\n",
       "</div>"
      ],
      "text/plain": [
       "     ORIGIN_STATE_NM  CARRIER_DELAY  WEATHER_DELAY  NAS_DELAY  SECURITY_DELAY  \\\n",
       "2327      Washington            0.0            0.0        0.0             0.0   \n",
       "2328      Washington            0.0            0.0        0.0             0.0   \n",
       "2329      Washington            0.0            0.0        0.0             0.0   \n",
       "2330      Washington            0.0            0.0        0.0             0.0   \n",
       "2331      Washington            0.0            0.0        0.0             0.0   \n",
       "\n",
       "      LATE_AIRCRAFT_DELAY  \n",
       "2327                  0.0  \n",
       "2328                  0.0  \n",
       "2329                  0.0  \n",
       "2330                  0.0  \n",
       "2331                  0.0  "
      ]
     },
     "execution_count": 32,
     "metadata": {},
     "output_type": "execute_result"
    }
   ],
   "source": [
    "# slicing out the record for the delay causes\n",
    "\n",
    "washington = df.loc[df['ORIGIN_STATE_NM']==\"Washington\"]\n",
    "\n",
    "washington = washington[['ORIGIN_STATE_NM','CARRIER_DELAY','WEATHER_DELAY','NAS_DELAY','SECURITY_DELAY','LATE_AIRCRAFT_DELAY']]\n",
    "washington.head()"
   ]
  },
  {
   "cell_type": "code",
   "execution_count": 33,
   "metadata": {},
   "outputs": [
    {
     "name": "stdout",
     "output_type": "stream",
     "text": [
      "NO_CARRIER_DELAY_OCCURRENCES = 5265\n"
     ]
    }
   ],
   "source": [
    "# checking for occurrences of CARRIER_DELAY\n",
    "\n",
    "washington_CARRIER_DELAY = washington.loc[washington['CARRIER_DELAY']>0]\n",
    "\n",
    "NO_CARRIER_DELAY_OCCURRENCES = washington_CARRIER_DELAY.shape[0]\n",
    "\n",
    "print(f'NO_CARRIER_DELAY_OCCURRENCES = {NO_CARRIER_DELAY_OCCURRENCES}')"
   ]
  },
  {
   "cell_type": "code",
   "execution_count": 34,
   "metadata": {},
   "outputs": [
    {
     "name": "stdout",
     "output_type": "stream",
     "text": [
      "NO_WEATHER_DELAY_OCCURRENCES = 827\n"
     ]
    }
   ],
   "source": [
    "# checking for occurrences of WEATHER_DELAY\n",
    "\n",
    "washington_WEATHER_DELAY = washington.loc[washington['WEATHER_DELAY']>0]\n",
    "\n",
    "NO_WEATHER_DELAY_OCCURRENCES = washington_WEATHER_DELAY.shape[0]\n",
    "\n",
    "print(f'NO_WEATHER_DELAY_OCCURRENCES = {NO_WEATHER_DELAY_OCCURRENCES}')"
   ]
  },
  {
   "cell_type": "code",
   "execution_count": 35,
   "metadata": {},
   "outputs": [
    {
     "name": "stdout",
     "output_type": "stream",
     "text": [
      "NO_NAS_DELAY_OCCURRENCES = 8253\n"
     ]
    }
   ],
   "source": [
    "# checking for occurrences of WEATHER_DELAY\n",
    "\n",
    "washington_NAS_DELAY = washington.loc[washington['NAS_DELAY']>0]\n",
    "\n",
    "NO_NAS_DELAY_OCCURRENCES = washington_NAS_DELAY.shape[0]\n",
    "\n",
    "print(f'NO_NAS_DELAY_OCCURRENCES = {NO_NAS_DELAY_OCCURRENCES}')"
   ]
  },
  {
   "cell_type": "code",
   "execution_count": 115,
   "metadata": {},
   "outputs": [
    {
     "name": "stdout",
     "output_type": "stream",
     "text": [
      "NO_SECURITY_DELAY_OCCURRENCES = 43\n"
     ]
    }
   ],
   "source": [
    "# checking for occurrences of SECURITY_DELAY\n",
    "\n",
    "\n",
    "washington_SECURITY_DELAY = washington.loc[washington['SECURITY_DELAY']>0]\n",
    "\n",
    "NO_SECURITY_DELAY_OCCURRENCES = washington_SECURITY_DELAY.shape[0]\n",
    "\n",
    "print(f'NO_SECURITY_DELAY_OCCURRENCES = {NO_SECURITY_DELAY_OCCURRENCES}')"
   ]
  },
  {
   "cell_type": "code",
   "execution_count": 36,
   "metadata": {},
   "outputs": [
    {
     "name": "stdout",
     "output_type": "stream",
     "text": [
      "NO_LATE_AIRCRAFT_DELAY_OCCURRENCES = 5161\n"
     ]
    }
   ],
   "source": [
    "# checking for occurrences of LATE_AIRCRAFT_DELAY\n",
    "\n",
    "\n",
    "washington_LATE_AIRCRAFT_DELAY = washington.loc[washington['LATE_AIRCRAFT_DELAY']>0]\n",
    "\n",
    "NO_LATE_AIRCRAFT_DELAY_OCCURRENCES = washington_LATE_AIRCRAFT_DELAY.shape[0]\n",
    "\n",
    "print(f'NO_LATE_AIRCRAFT_DELAY_OCCURRENCES = {NO_LATE_AIRCRAFT_DELAY_OCCURRENCES}')"
   ]
  },
  {
   "cell_type": "markdown",
   "metadata": {},
   "source": [
    "#### The most rampant delay in Washington in the first half of 2019 is National Air System Delay with about 8253 occurrences"
   ]
  },
  {
   "cell_type": "code",
   "execution_count": 42,
   "metadata": {},
   "outputs": [
    {
     "data": {
      "text/html": [
       "<div>\n",
       "<style scoped>\n",
       "    .dataframe tbody tr th:only-of-type {\n",
       "        vertical-align: middle;\n",
       "    }\n",
       "\n",
       "    .dataframe tbody tr th {\n",
       "        vertical-align: top;\n",
       "    }\n",
       "\n",
       "    .dataframe thead th {\n",
       "        text-align: right;\n",
       "    }\n",
       "</style>\n",
       "<table border=\"1\" class=\"dataframe\">\n",
       "  <thead>\n",
       "    <tr style=\"text-align: right;\">\n",
       "      <th></th>\n",
       "      <th>DEST_STATE_NM</th>\n",
       "      <th>CARRIER_DELAY</th>\n",
       "      <th>WEATHER_DELAY</th>\n",
       "      <th>NAS_DELAY</th>\n",
       "      <th>SECURITY_DELAY</th>\n",
       "      <th>LATE_AIRCRAFT_DELAY</th>\n",
       "    </tr>\n",
       "  </thead>\n",
       "  <tbody>\n",
       "    <tr>\n",
       "      <th>2160</th>\n",
       "      <td>Washington</td>\n",
       "      <td>0.0</td>\n",
       "      <td>0.0</td>\n",
       "      <td>0.0</td>\n",
       "      <td>0.0</td>\n",
       "      <td>0.0</td>\n",
       "    </tr>\n",
       "    <tr>\n",
       "      <th>2161</th>\n",
       "      <td>Washington</td>\n",
       "      <td>0.0</td>\n",
       "      <td>0.0</td>\n",
       "      <td>0.0</td>\n",
       "      <td>0.0</td>\n",
       "      <td>0.0</td>\n",
       "    </tr>\n",
       "    <tr>\n",
       "      <th>2162</th>\n",
       "      <td>Washington</td>\n",
       "      <td>0.0</td>\n",
       "      <td>0.0</td>\n",
       "      <td>0.0</td>\n",
       "      <td>0.0</td>\n",
       "      <td>0.0</td>\n",
       "    </tr>\n",
       "    <tr>\n",
       "      <th>2163</th>\n",
       "      <td>Washington</td>\n",
       "      <td>0.0</td>\n",
       "      <td>0.0</td>\n",
       "      <td>0.0</td>\n",
       "      <td>0.0</td>\n",
       "      <td>0.0</td>\n",
       "    </tr>\n",
       "    <tr>\n",
       "      <th>2615</th>\n",
       "      <td>Washington</td>\n",
       "      <td>0.0</td>\n",
       "      <td>0.0</td>\n",
       "      <td>0.0</td>\n",
       "      <td>0.0</td>\n",
       "      <td>0.0</td>\n",
       "    </tr>\n",
       "  </tbody>\n",
       "</table>\n",
       "</div>"
      ],
      "text/plain": [
       "     DEST_STATE_NM  CARRIER_DELAY  WEATHER_DELAY  NAS_DELAY  SECURITY_DELAY  \\\n",
       "2160    Washington            0.0            0.0        0.0             0.0   \n",
       "2161    Washington            0.0            0.0        0.0             0.0   \n",
       "2162    Washington            0.0            0.0        0.0             0.0   \n",
       "2163    Washington            0.0            0.0        0.0             0.0   \n",
       "2615    Washington            0.0            0.0        0.0             0.0   \n",
       "\n",
       "      LATE_AIRCRAFT_DELAY  \n",
       "2160                  0.0  \n",
       "2161                  0.0  \n",
       "2162                  0.0  \n",
       "2163                  0.0  \n",
       "2615                  0.0  "
      ]
     },
     "execution_count": 42,
     "metadata": {},
     "output_type": "execute_result"
    }
   ],
   "source": [
    "washington = df.loc[df['DEST_STATE_NM']==\"Washington\"]\n",
    "\n",
    "washington = washington[['DEST_STATE_NM','CARRIER_DELAY','WEATHER_DELAY','NAS_DELAY','SECURITY_DELAY','LATE_AIRCRAFT_DELAY']]\n",
    "washington.head()"
   ]
  },
  {
   "cell_type": "markdown",
   "metadata": {},
   "source": [
    "Note: the same data above was calculated using the DESTINATION STATE NAME and the most occurrences still remain the \n",
    "National Air System Delay  \n"
   ]
  },
  {
   "cell_type": "code",
   "execution_count": null,
   "metadata": {},
   "outputs": [],
   "source": []
  }
 ],
 "metadata": {
  "kernelspec": {
   "display_name": "Python 3",
   "language": "python",
   "name": "python3"
  },
  "language_info": {
   "codemirror_mode": {
    "name": "ipython",
    "version": 3
   },
   "file_extension": ".py",
   "mimetype": "text/x-python",
   "name": "python",
   "nbconvert_exporter": "python",
   "pygments_lexer": "ipython3",
   "version": "3.8.5"
  }
 },
 "nbformat": 4,
 "nbformat_minor": 4
}
